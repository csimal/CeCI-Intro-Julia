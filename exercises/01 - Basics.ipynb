{
 "cells": [
  {
   "cell_type": "markdown",
   "metadata": {
    "vscode": {
     "languageId": "julia"
    }
   },
   "source": [
    "# CéCI Training Days\n",
    "# Introduction to the Julia programming language\n",
    "\n",
    "The goal of this exercise notebook is to walk the user through the basic functionalities of the Julia programming language. After completion, you will have learned the following\n",
    "\n",
    "- Basic functionalities of the Julia REPL\n",
    "- Write simple functions and call them.\n",
    "- Manipulate arrays and broadcasting.\n",
    "- Make plots using the `Plots` package\n",
    "\n",
    "\n",
    "While not necessary, the use of AI tools like ChatGPT or Claude can be much faster and helpful to solve these exercises than digging through the documentation. It is therefore recommended that you do so. For extra challenge, you may of course go without AI tools."
   ]
  },
  {
   "cell_type": "markdown",
   "metadata": {},
   "source": [
    "## 1 Command Line\n",
    "\n",
    "For the exercises in this session, you'll need a terminal. If you're reading this notebook in VSCode, this can be done by clicking on `Terminal > New Terminal`."
   ]
  },
  {
   "cell_type": "markdown",
   "metadata": {},
   "source": [
    "### Exercise 1.1: Welcome to the REPL\n",
    "\n",
    "Open a terminal and enter `julia` to land in the Julia *REPL* (*Read Eval Print Loop*)."
   ]
  },
  {
   "cell_type": "markdown",
   "metadata": {},
   "source": [
    "### Exercise 1.2: Hello World\n",
    "\n",
    "Run the command `println(\"Hello, World!\")` in a Julia REPL."
   ]
  },
  {
   "cell_type": "markdown",
   "metadata": {},
   "source": [
    "### Exercise 1.3: Help!\n",
    "\n",
    "Press the `?` key on your keyboard to enter `help` mode. Write the name of a function, for example, `println` to display its documentation. Press the return key to go back to normal mode."
   ]
  },
  {
   "cell_type": "markdown",
   "metadata": {},
   "source": [
    "### Exercise 1.4: Package Manager\n",
    "\n",
    "Press the `]` key on your keyboard to enter the *package manager*. Run the `status` command to display the list of currently installed packages. Press the return key to go back to normal mode."
   ]
  },
  {
   "cell_type": "markdown",
   "metadata": {},
   "source": [
    "### Exercise 1.5 Shell mode\n",
    "\n",
    "Press the `;` key to enter shell mode. You can run basic shell commands in this mode. Press return to go back to normal mode."
   ]
  },
  {
   "cell_type": "markdown",
   "metadata": {},
   "source": [
    "## 2 Basic Syntax\n",
    "\n",
    "From here on, everything will happen in notebook cells."
   ]
  },
  {
   "cell_type": "markdown",
   "metadata": {},
   "source": [
    "### Exercise 2.1\n",
    "\n",
    "Create a variable `a` with value 42, then compute the value of `a^2 + a + 41`."
   ]
  },
  {
   "cell_type": "code",
   "execution_count": null,
   "metadata": {},
   "outputs": [],
   "source": [
    "# Use this cell to answer the question"
   ]
  },
  {
   "cell_type": "markdown",
   "metadata": {},
   "source": [
    "### Exercise 2.2\n",
    "\n",
    "Write a  function `p(x)` which takes as argument a real number `x` and returns\n",
    "$$ p(x) = x^2 + x + 41. $$\n",
    "\n",
    "**Indication** : Use an inline definition."
   ]
  },
  {
   "cell_type": "code",
   "execution_count": null,
   "metadata": {},
   "outputs": [],
   "source": []
  },
  {
   "cell_type": "markdown",
   "metadata": {},
   "source": [
    "### Exercise 2.3\n",
    "\n",
    "Write a function `isprime(n)` which takes as arguement a positive integer $n$ and returns `true` if $n$ is a prime number and `false` otherwise.\n",
    "\n",
    "**Indication** : The remainder of the euclidean division of $x$ by $y$ can be obtained with `mod(x,y)`."
   ]
  },
  {
   "cell_type": "code",
   "execution_count": null,
   "metadata": {},
   "outputs": [],
   "source": []
  },
  {
   "cell_type": "markdown",
   "metadata": {},
   "source": [
    "## 3 Arrays\n",
    "\n",
    "### Exercise 3.1\n",
    "\n",
    "Create a vector of 10 elements filled with zeros using the `zeros` function and write the value `42` in its fifth element."
   ]
  },
  {
   "cell_type": "code",
   "execution_count": null,
   "metadata": {},
   "outputs": [],
   "source": []
  },
  {
   "cell_type": "markdown",
   "metadata": {},
   "source": [
    "### Exercise 3.2\n",
    "\n",
    "Use an array comprehension to obtain the set of integers between 0 and 100 such that `p(n)` is prime, where `p` is the polynomial defined in exercise 2.2"
   ]
  },
  {
   "cell_type": "code",
   "execution_count": null,
   "metadata": {},
   "outputs": [],
   "source": []
  },
  {
   "cell_type": "markdown",
   "metadata": {},
   "source": [
    "### Exercise 3.3\n",
    "\n",
    "Write a function `vandermonde(x, n)` which takes as argument a vector of numbers $x = [x_1,\\dots,x_m]^T \\in \\mathbb{R}^m$ and a positive integer $n$ et and returns the *Vandermonde matrix*\n",
    "$$ V = \\begin{bmatrix}\n",
    "        1 & x_1 & x_1^2 & \\dots & x_1^n \\\\\n",
    "        1 & x_2 & x_2^2 & \\dots & x_2^n \\\\\n",
    "        \\vdots & \\vdots & \\vdots & \\ddots & \\vdots \\\\\n",
    "        1 & x_m & x_m^2 & \\dots & x_m^n\n",
    "    \\end{bmatrix} \\in \\R^{m \\times (n+1)}. $$\n",
    "\n",
    "**Indication** : Use an array comprehension."
   ]
  },
  {
   "cell_type": "code",
   "execution_count": null,
   "metadata": {},
   "outputs": [],
   "source": []
  },
  {
   "cell_type": "markdown",
   "metadata": {},
   "source": [
    "### Exercise 3.4\n",
    "\n",
    "Let $x = [1, 2, 3, 4, 5]^T$. Use the function `vandermonde(x,4)` from the previous question to obtain the square matrix $V \\in \\mathbb{R}^{5\\times 5}$ and solve the linear system\n",
    "$$ V y = b, $$\n",
    "where $b \\in \\mathbb{R}^5$ is the vector such that $b_i = p(x_i)$, where $p$ is the function defined in exercise 2.2.\n",
    "\n",
    "**Indication**: As in Matlab, the solution of a linear system $Ax = b$ can be obtained with `A \\ b`."
   ]
  },
  {
   "cell_type": "code",
   "execution_count": null,
   "metadata": {},
   "outputs": [],
   "source": []
  },
  {
   "cell_type": "markdown",
   "metadata": {},
   "source": [
    "## 4 Figures\n",
    "\n",
    "This last sections is there to introduce the `Plots` package which can be used to create plots and figures.\n",
    "\n",
    "- Official `Plots` Documentation: https://docs.juliaplots.org/latest/tutorial/\n",
    "- Examples Gallery: https://goropikari.github.io/PlotsGallery.jl/\n",
    "\n",
    "### Exercise 5.1\n",
    "\n",
    "Use the function `plot` to display the function $p$ from exercise 2.2 on the interval $[0,100]$.\n",
    "\n",
    "**Indication** : The function `LinRange(a,b,n)` produces a vector of $n$ points uniformly distributed between $a$ and $b$.\n",
    "\n",
    "### Exercise 5.2\n",
    "\n",
    "Use the `scatter!` function to add on the same figure points on the value of $p$ at integer values between 0 and 100 such that `p(n)` is prime."
   ]
  },
  {
   "cell_type": "code",
   "execution_count": null,
   "metadata": {},
   "outputs": [],
   "source": [
    "using Plots\n"
   ]
  },
  {
   "cell_type": "markdown",
   "metadata": {},
   "source": [
    "### Exercise 5.4 (Optional)\n",
    "\n",
    "The file `../data/pulsar.txt` contains a matrix whose columns are radio emission curves from the pulsar PSR B1919+21, discovered in 1967 by physicist Jocelyne Bell. It was the very first identified radio pulsar.\n",
    "\n",
    "1. Read the data using the `readdlm` from the `DelimitedFiles` package, and plot them. Note that when passing a matrix as an argument to `plot`, each column will be displayed as a separate curve. For this exercise, however, you'll need to use a loop. Use the argument `label=\"\"` to remove the legend.\n",
    "2. Use the keyword argument `color = :black` to change the color of the curves.\n",
    "3.  Use the keyword argument `linewidth = 2` to change the thickness of the curves.\n",
    "4. Apply a vertical shift to each curve, such that the shift for curve $j$ is proportional to $80-j$. The simplest way to do that is to construct a matrix that is added to the data before plotting.\n",
    "5. Add the argument `fill = (0,:white)` in your call to `plot!`."
   ]
  },
  {
   "cell_type": "code",
   "execution_count": null,
   "metadata": {},
   "outputs": [],
   "source": [
    "using DelimitedFiles\n",
    "\n"
   ]
  }
 ],
 "metadata": {
  "kernelspec": {
   "display_name": "Julia 1.11.1",
   "language": "julia",
   "name": "julia-1.11"
  },
  "language_info": {
   "file_extension": ".jl",
   "mimetype": "application/julia",
   "name": "julia",
   "version": "1.11.1"
  }
 },
 "nbformat": 4,
 "nbformat_minor": 2
}
