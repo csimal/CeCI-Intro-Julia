{
 "cells": [
  {
   "cell_type": "markdown",
   "metadata": {},
   "source": [
    "# Julia's Type System\n",
    "The biggest difference between Julia and Matlab (and to some degree Python) is its type system which is much richer, and allows the user fine control over how his data is structured, and how his program is executed."
   ]
  },
  {
   "cell_type": "markdown",
   "metadata": {},
   "source": [
    "Variables can optionally be given type annotations:"
   ]
  },
  {
   "cell_type": "code",
   "execution_count": 1,
   "metadata": {},
   "outputs": [
    {
     "data": {
      "text/plain": [
       "3-element Vector{Int64}:\n",
       " 1\n",
       " 2\n",
       " 3"
      ]
     },
     "metadata": {},
     "output_type": "display_data"
    }
   ],
   "source": [
    "a::Int = 1\n",
    "b::Float64 = 0.2\n",
    "c::Vector{Int} = [1,2,3]"
   ]
  },
  {
   "cell_type": "markdown",
   "metadata": {},
   "source": [
    "New types can be defined via structs"
   ]
  },
  {
   "cell_type": "code",
   "execution_count": 2,
   "metadata": {},
   "outputs": [],
   "source": [
    "struct Student\n",
    "    name::String\n",
    "    age::Int\n",
    "    section::String\n",
    "    year::Int\n",
    "end"
   ]
  },
  {
   "cell_type": "code",
   "execution_count": 3,
   "metadata": {},
   "outputs": [
    {
     "data": {
      "text/plain": [
       "Student(\"Alice\", 22, \"Chemistry\", 4)"
      ]
     },
     "metadata": {},
     "output_type": "display_data"
    }
   ],
   "source": [
    "alice = Student(\"Alice\", 22, \"Chemistry\", 4)"
   ]
  },
  {
   "cell_type": "code",
   "execution_count": 4,
   "metadata": {},
   "outputs": [
    {
     "data": {
      "text/plain": [
       "\"Chemistry\""
      ]
     },
     "metadata": {},
     "output_type": "display_data"
    }
   ],
   "source": [
    "alice.section"
   ]
  },
  {
   "cell_type": "markdown",
   "metadata": {},
   "source": [
    "By default, structs are *immutable*, so we get an error when trying to modify a field"
   ]
  },
  {
   "cell_type": "code",
   "execution_count": 5,
   "metadata": {},
   "outputs": [
    {
     "ename": "ErrorException",
     "evalue": "setfield!: immutable struct of type Student cannot be changed",
     "output_type": "error",
     "traceback": [
      "setfield!: immutable struct of type Student cannot be changed\n",
      "\n",
      "Stacktrace:\n",
      " [1] setproperty!(x::Student, f::Symbol, v::String)\n",
      "   @ Base ./Base.jl:53\n",
      " [2] top-level scope\n",
      "   @ ~/Documents/Talks/CeCI/CECI-Intro-Julia/jl_notebook_cell_df34fa98e69747e1a8f8a730347b8e2f_W5sZmlsZQ==.jl:1"
     ]
    }
   ],
   "source": [
    "alice.section = \"Physics\""
   ]
  },
  {
   "cell_type": "markdown",
   "metadata": {},
   "source": [
    "If we want to be able to mutate a struct's fields, we need to declare it as mutable"
   ]
  },
  {
   "cell_type": "code",
   "execution_count": 6,
   "metadata": {},
   "outputs": [],
   "source": [
    "mutable struct Lightbulb\n",
    "    age::Int\n",
    "    wattage::Float64\n",
    "    turned_on::Bool\n",
    "end"
   ]
  },
  {
   "cell_type": "code",
   "execution_count": 7,
   "metadata": {},
   "outputs": [
    {
     "data": {
      "text/plain": [
       "Lightbulb(0, 150.0, false)"
      ]
     },
     "metadata": {},
     "output_type": "display_data"
    }
   ],
   "source": [
    "lightbulb = Lightbulb(0, 150.0, false)"
   ]
  },
  {
   "cell_type": "code",
   "execution_count": 8,
   "metadata": {},
   "outputs": [
    {
     "data": {
      "text/plain": [
       "Lightbulb(0, 150.0, true)"
      ]
     },
     "metadata": {},
     "output_type": "display_data"
    }
   ],
   "source": [
    "lightbulb.turned_on = true\n",
    "lightbulb"
   ]
  },
  {
   "cell_type": "markdown",
   "metadata": {},
   "source": [
    "## Parametric Types\n",
    "Sometimes, we want to be flexible with the types inside our structs. That's where type parameters come in. The following cell defines a new type that has two fields whose type we can choose"
   ]
  },
  {
   "cell_type": "code",
   "execution_count": 9,
   "metadata": {},
   "outputs": [],
   "source": [
    "struct Point2D{T}\n",
    "    x::T\n",
    "    y::T\n",
    "end"
   ]
  },
  {
   "cell_type": "code",
   "execution_count": 10,
   "metadata": {},
   "outputs": [
    {
     "data": {
      "text/plain": [
       "Point2D"
      ]
     },
     "metadata": {},
     "output_type": "display_data"
    }
   ],
   "source": [
    "Point2D(x) = Point2D(x,x)"
   ]
  },
  {
   "cell_type": "code",
   "execution_count": 11,
   "metadata": {},
   "outputs": [
    {
     "data": {
      "text/plain": [
       "Point2D{Int64}(1, 1)"
      ]
     },
     "metadata": {},
     "output_type": "display_data"
    }
   ],
   "source": [
    "Point2D(1)"
   ]
  },
  {
   "cell_type": "code",
   "execution_count": 12,
   "metadata": {},
   "outputs": [
    {
     "data": {
      "text/plain": [
       "Point2D{Int64}(1, 2)"
      ]
     },
     "metadata": {},
     "output_type": "display_data"
    }
   ],
   "source": [
    "p1 = Point2D(1,2)"
   ]
  },
  {
   "cell_type": "code",
   "execution_count": 13,
   "metadata": {},
   "outputs": [
    {
     "data": {
      "text/plain": [
       "Point2D{Float64}(1.0, 2.0)"
      ]
     },
     "metadata": {},
     "output_type": "display_data"
    }
   ],
   "source": [
    "p2 = Point2D(1.0, 2.0)"
   ]
  },
  {
   "cell_type": "markdown",
   "metadata": {},
   "source": [
    "## Subtyping"
   ]
  },
  {
   "cell_type": "markdown",
   "metadata": {},
   "source": [
    "In addition to parametric types, there is also a partial order (type hierarchy). This is similar to object-oriented programming, with one main difference.\n",
    "\n",
    "All the types we've seen so far were *concrete types*, that is types that have a representation in memory. There also *abstract types*, which don't have fields or a representation, and can't actually be instantiated at runtime.\n",
    "\n",
    "Concrete types can only have a supertype and cannot have subtypes, whereas abstract types can have arbitrarily many subtypes.\n",
    "\n",
    "Since julia types are first class citizens, we can evaluate the order relation at runtime, for instance to check that `Int` is a subtype of the abstract type `Integer`:"
   ]
  },
  {
   "cell_type": "code",
   "execution_count": 14,
   "metadata": {},
   "outputs": [
    {
     "data": {
      "text/plain": [
       "true"
      ]
     },
     "metadata": {},
     "output_type": "display_data"
    }
   ],
   "source": [
    "Int <: Integer"
   ]
  },
  {
   "cell_type": "markdown",
   "metadata": {},
   "source": [
    "When declaring a new type, we can specify its immediate supertype:"
   ]
  },
  {
   "cell_type": "code",
   "execution_count": 1,
   "metadata": {},
   "outputs": [],
   "source": [
    "abstract type Animal end\n",
    "abstract type Mammal <: Animal end\n",
    "struct Tiger <: Mammal end\n",
    "struct Dog <: Mammal end"
   ]
  },
  {
   "cell_type": "markdown",
   "metadata": {},
   "source": [
    "## Types and Functions"
   ]
  },
  {
   "cell_type": "markdown",
   "metadata": {},
   "source": [
    "Function arguments can optionally be type annotated. In most cases this isn't necessary, however, and is only recommended when strictly needed."
   ]
  },
  {
   "cell_type": "code",
   "execution_count": 16,
   "metadata": {},
   "outputs": [
    {
     "data": {
      "text/plain": [
       "collatz (generic function with 1 method)"
      ]
     },
     "metadata": {},
     "output_type": "display_data"
    }
   ],
   "source": [
    "function collatz(n::Int)\n",
    "    iseven(n) ? div(n,2) : 3n+1\n",
    "end"
   ]
  },
  {
   "cell_type": "markdown",
   "metadata": {},
   "source": [
    "It's also possible to specify a \"return\" type. This only means that the result of the function gets converted to that type, so this is not a formal garrantee."
   ]
  },
  {
   "cell_type": "code",
   "execution_count": 17,
   "metadata": {},
   "outputs": [
    {
     "data": {
      "text/plain": [
       "collatz (generic function with 1 method)"
      ]
     },
     "metadata": {},
     "output_type": "display_data"
    }
   ],
   "source": [
    "function collatz(n::Int)::Int\n",
    "    iseven(n) ? div(n,2) : 3n+1\n",
    "end"
   ]
  },
  {
   "cell_type": "markdown",
   "metadata": {},
   "source": [
    "## Multiple Dispatch\n",
    "Where the type system really comes together is in how it interacts when defining multiple versions of the same function with different argument types. These are called methods, and allow an extreme degree of modularity in Julia code."
   ]
  },
  {
   "cell_type": "markdown",
   "metadata": {},
   "source": [
    "As an example, let's go back to our `Animal` type, and add a couple more species."
   ]
  },
  {
   "cell_type": "code",
   "execution_count": 2,
   "metadata": {},
   "outputs": [],
   "source": [
    "abstract type Bird <: Animal end\n",
    "struct Parrot <: Bird end\n",
    "struct Crow <: Bird end"
   ]
  },
  {
   "cell_type": "markdown",
   "metadata": {},
   "source": [
    "Let's say we want to write a function that returns the sound an animal makes. Since we're lazy, we don't want to have to write a method for every single type. For now, we'll say that by default, mammals growl and birds caw. We can do that by writing methods for the abstract types `Mammal` and `Bird`."
   ]
  },
  {
   "cell_type": "code",
   "execution_count": 3,
   "metadata": {},
   "outputs": [
    {
     "data": {
      "text/plain": [
       "sound (generic function with 2 methods)"
      ]
     },
     "metadata": {},
     "output_type": "display_data"
    }
   ],
   "source": [
    "sound(::Mammal) = \"Growl\"\n",
    "sound(::Bird) = \"Caw\""
   ]
  },
  {
   "cell_type": "code",
   "execution_count": 8,
   "metadata": {},
   "outputs": [
    {
     "data": {
      "text/plain": [
       "\"Growl\""
      ]
     },
     "metadata": {},
     "output_type": "display_data"
    }
   ],
   "source": [
    "sound(Tiger())"
   ]
  },
  {
   "cell_type": "code",
   "execution_count": 5,
   "metadata": {},
   "outputs": [
    {
     "data": {
      "text/plain": [
       "\"Caw\""
      ]
     },
     "metadata": {},
     "output_type": "display_data"
    }
   ],
   "source": [
    "sound(Parrot())"
   ]
  },
  {
   "cell_type": "markdown",
   "metadata": {},
   "source": [
    "Now let's say we want to add cows to our growing list of animals. Obviously cows don't growl, so we can write a method for `sound(::Cow)` while leaving other mammals unchanged."
   ]
  },
  {
   "cell_type": "code",
   "execution_count": 6,
   "metadata": {},
   "outputs": [
    {
     "data": {
      "text/plain": [
       "sound (generic function with 3 methods)"
      ]
     },
     "metadata": {},
     "output_type": "display_data"
    }
   ],
   "source": [
    "struct Cow <: Mammal end\n",
    "sound(::Cow) = \"Moo\""
   ]
  },
  {
   "cell_type": "code",
   "execution_count": 7,
   "metadata": {},
   "outputs": [
    {
     "data": {
      "text/plain": [
       "\"Moo\""
      ]
     },
     "metadata": {},
     "output_type": "display_data"
    }
   ],
   "source": [
    "sound(Cow())"
   ]
  },
  {
   "cell_type": "markdown",
   "metadata": {},
   "source": [
    "## Dispatching over multiple arguments\n",
    "So far we've used dispatch for functions with a single argument. This is equivalent to *single dispatch*, which is how Objected Oriented languages like Python specialize methods. Julia however can specialize methods over the types of multiple arguments at the same time."
   ]
  },
  {
   "cell_type": "markdown",
   "metadata": {},
   "source": [
    "To illustrate this, let's model chemical reactions."
   ]
  },
  {
   "cell_type": "code",
   "execution_count": 9,
   "metadata": {},
   "outputs": [],
   "source": [
    "abstract type Chemical end\n",
    "struct H2 <: Chemical end\n",
    "struct H2O <: Chemical end\n",
    "struct O2 <: Chemical end\n",
    "struct SO3 <: Chemical end"
   ]
  },
  {
   "cell_type": "markdown",
   "metadata": {},
   "source": [
    "We want to write a function that tells us what happens when we mix two chemicals. Now for the chemicals we've implemented, there's really only two interesting cases:\n",
    "1. We mix Hydrogen (`H2`) and Oxygen (`O2`) to get water (and more importantly a small explosion)\n",
    "2. We mix water (`H2O`) and sulfur trioxide (`SO3`) to get sulfuric acid\n",
    "\n",
    "Any other combination of chemicals won't do anything.\n",
    "\n",
    "A naive way to implement this would be the following"
   ]
  },
  {
   "cell_type": "code",
   "execution_count": 10,
   "metadata": {},
   "outputs": [
    {
     "data": {
      "text/plain": [
       "mix_bad (generic function with 1 method)"
      ]
     },
     "metadata": {},
     "output_type": "display_data"
    }
   ],
   "source": [
    "function mix_bad(x,y)\n",
    "    # `x isa T` returns true if x is of type T (or a subtype of T)\n",
    "    if x isa H2 && y isa O2\n",
    "        return \"Boom!\"\n",
    "    elseif x isa H2O && y isa SO3\n",
    "        return \"Sulfuric Acid!\"\n",
    "    else\n",
    "        return \"Nothing happens.\"\n",
    "    end\n",
    "end"
   ]
  },
  {
   "cell_type": "code",
   "execution_count": 11,
   "metadata": {},
   "outputs": [
    {
     "data": {
      "text/plain": [
       "\"Boom!\""
      ]
     },
     "metadata": {},
     "output_type": "display_data"
    }
   ],
   "source": [
    "mix_bad(H2(), O2())"
   ]
  },
  {
   "cell_type": "code",
   "execution_count": 12,
   "metadata": {},
   "outputs": [
    {
     "data": {
      "text/plain": [
       "\"Nothing happens.\""
      ]
     },
     "metadata": {},
     "output_type": "display_data"
    }
   ],
   "source": [
    "mix_bad(O2(), H2())"
   ]
  },
  {
   "cell_type": "markdown",
   "metadata": {},
   "source": [
    "Why is this bad? Well, to begin with, if we wanted to add more chemicals, we'd have to add more clauses to that if, which could quickly become enormous. But then, if we distributed this function in a package, other people wouldn't be able to add their own chemicals.\n",
    "\n",
    "Another reason is that we're comparing types at runtime, instead on relying on the compiler to optimize our code, which means this function will be less performant.\n",
    "\n",
    "The correct way to do this, using multiple dispatch is as follows"
   ]
  },
  {
   "cell_type": "code",
   "execution_count": 13,
   "metadata": {},
   "outputs": [
    {
     "data": {
      "text/plain": [
       "mix_good (generic function with 5 methods)"
      ]
     },
     "metadata": {},
     "output_type": "display_data"
    }
   ],
   "source": [
    "mix_good(::H2, ::O2) = \"Boom!\"\n",
    "mix_good(::O2, ::H2) = \"Boom!\"\n",
    "mix_good(::H2O, ::SO3) = \"Sulfuric Acid!\"\n",
    "mix_good(::SO3, ::H2O) = \"Sulfuric Acid!\"\n",
    "mix_good(::Chemical, ::Chemical) = \"Nothing happens.\""
   ]
  },
  {
   "cell_type": "markdown",
   "metadata": {},
   "source": [
    "For another example: https://www.moll.dev/projects/effective-multi-dispatch/"
   ]
  },
  {
   "cell_type": "markdown",
   "metadata": {},
   "source": [
    "## Advanced Example: Automatic Differentiation\n",
    "We'll finish with a more complicated example to showcase how powerful Multiple dispatch can be, namely, we'll implement a barebones way of *automatically* computing the derivative of arithmetic operations in about ten lines of code.\n",
    "\n",
    "This example is largely adapted from https://www.youtube.com/watch?v=vAp6nUMrKYg\n",
    "\n",
    "Let's start by defining a new type called `Dual`. It represents pairs of numbers of the form \n",
    "$$ x + \\epsilon y $$\n",
    "where $\\epsilon$ is a bit like the imaginary unit $i$, except it satisfies $\\epsilon^2 = 0$.\n",
    "\n",
    "Another way to interpret them is that $x$ represents the value of some function evaluated at some point, while $y$ represents the value of the *derivative* of that function at the same point."
   ]
  },
  {
   "cell_type": "code",
   "execution_count": 14,
   "metadata": {},
   "outputs": [],
   "source": [
    "struct Dual <: Number\n",
    "    x::Float64\n",
    "    y::Float64\n",
    "end"
   ]
  },
  {
   "cell_type": "markdown",
   "metadata": {},
   "source": [
    "Note that we could make this a parametric type, but won't for clarity's sake.\n",
    "\n",
    "We've defined `Dual` as a subtype of `Number` which is the abstract type for objects that support arithmetic operations. Let's define them for our new type."
   ]
  },
  {
   "cell_type": "code",
   "execution_count": 15,
   "metadata": {},
   "outputs": [
    {
     "data": {
      "text/plain": [
       "show (generic function with 333 methods)"
      ]
     },
     "metadata": {},
     "output_type": "display_data"
    }
   ],
   "source": [
    "import Base: +, -, *, /, convert, promote_rule, show\n",
    "\n",
    "# The following four lines define arithmetic operations on Duals. Notice how the rules for * and / are the same as derivative rules for multiplication and division\n",
    "+(a::Dual, b::Dual) = Dual(a.x + b.x, a.y + b.y)\n",
    "-(a::Dual, b::Dual) = Dual(a.x - b.x, a.y - b.y)\n",
    "*(a::Dual, b::Dual) = Dual(a.x*b.x, a.y*b.x + a.x*b.y)\n",
    "/(a::Dual, b::Dual) = Dual(a.x/b.x, (a.y*b.x - a.x*b.y)/(b.x^2))\n",
    "\n",
    "# These three lines tell how to convert between real numbers and Dual, and how to pretty print Dual numbers.\n",
    "convert(::Type{Dual}, x::Real) = Dual(x, zero(x))\n",
    "promote_rule(::Type{Dual}, ::Type{<:Number}) = Dual\n",
    "show(io::IO, d::Dual) = print(io, d.x, \" + \", d.y,\" ϵ\")"
   ]
  },
  {
   "cell_type": "markdown",
   "metadata": {},
   "source": [
    "We can try it out on some function to check that it works"
   ]
  },
  {
   "cell_type": "code",
   "execution_count": 16,
   "metadata": {},
   "outputs": [
    {
     "data": {
      "text/plain": [
       "(3, 3.0, 3.0 + 5.0 ϵ)"
      ]
     },
     "metadata": {},
     "output_type": "display_data"
    }
   ],
   "source": [
    "f(x) = 2*x^2 + x\n",
    "f(1), f(1.0), f(Dual(1,1))"
   ]
  },
  {
   "cell_type": "markdown",
   "metadata": {},
   "source": [
    "So far, so good. Let's try a more complicated function."
   ]
  },
  {
   "cell_type": "code",
   "execution_count": 17,
   "metadata": {},
   "outputs": [
    {
     "data": {
      "text/plain": [
       "babylonian"
      ]
     },
     "metadata": {},
     "output_type": "display_data"
    }
   ],
   "source": [
    "\"\"\"\n",
    "Compute the square root of x using the Babylonian algorithm\n",
    "\"\"\"\n",
    "function babylonian(x; nmax = 10)\n",
    "    t = (1+x)/2\n",
    "    for i in 2:nmax\n",
    "        t = (t + x/t)/2\n",
    "    end\n",
    "    return t\n",
    "end"
   ]
  },
  {
   "cell_type": "code",
   "execution_count": 18,
   "metadata": {},
   "outputs": [
    {
     "data": {
      "text/plain": [
       "(1.7724538509055159, 1.7724538509055159, 1.414213562373095, 1.4142135623730951)"
      ]
     },
     "metadata": {},
     "output_type": "display_data"
    }
   ],
   "source": [
    "babylonian(π), sqrt(π), babylonian(2), sqrt(2)"
   ]
  },
  {
   "cell_type": "code",
   "execution_count": 19,
   "metadata": {},
   "outputs": [
    {
     "data": {
      "text/plain": [
       "1.414213562373095 + 0.35355339059327373 ϵ"
      ]
     },
     "metadata": {},
     "output_type": "display_data"
    }
   ],
   "source": [
    "x = Dual(2, 1)\n",
    "babylonian(x)"
   ]
  },
  {
   "cell_type": "code",
   "execution_count": 20,
   "metadata": {},
   "outputs": [
    {
     "data": {
      "text/plain": [
       "0.35355339059327373"
      ]
     },
     "metadata": {},
     "output_type": "display_data"
    }
   ],
   "source": [
    "0.5/√2"
   ]
  }
 ],
 "metadata": {
  "kernelspec": {
   "display_name": "Julia 1.11.1",
   "language": "julia",
   "name": "julia-1.11"
  },
  "language_info": {
   "file_extension": ".jl",
   "mimetype": "application/julia",
   "name": "julia",
   "version": "1.11.1"
  }
 },
 "nbformat": 4,
 "nbformat_minor": 2
}
